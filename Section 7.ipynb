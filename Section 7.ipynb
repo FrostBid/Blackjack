{
 "cells": [
  {
   "cell_type": "code",
   "execution_count": null,
   "metadata": {},
   "outputs": [],
   "source": [
    "input('Please enter a value: ')"
   ]
  },
  {
   "cell_type": "code",
   "execution_count": null,
   "metadata": {},
   "outputs": [],
   "source": [
    "result = input('Bru h')"
   ]
  },
  {
   "cell_type": "code",
   "execution_count": null,
   "metadata": {},
   "outputs": [],
   "source": [
    "result"
   ]
  },
  {
   "cell_type": "code",
   "execution_count": null,
   "metadata": {},
   "outputs": [],
   "source": [
    "str"
   ]
  },
  {
   "cell_type": "code",
   "execution_count": null,
   "metadata": {},
   "outputs": [],
   "source": [
    "result = int(input(\"Enter value: \"))"
   ]
  },
  {
   "cell_type": "code",
   "execution_count": null,
   "metadata": {},
   "outputs": [],
   "source": [
    "type(result)"
   ]
  },
  {
   "cell_type": "code",
   "execution_count": null,
   "metadata": {},
   "outputs": [],
   "source": [
    "somebody = '100'"
   ]
  },
  {
   "cell_type": "code",
   "execution_count": null,
   "metadata": {},
   "outputs": [],
   "source": [
    "somebody.isdigit()"
   ]
  },
  {
   "cell_type": "code",
   "execution_count": null,
   "metadata": {},
   "outputs": [],
   "source": [
    "def bruh():\n",
    "    ok = 'asasasasa'\n",
    "    while ok.isdigit() == False:\n",
    "        ok = input('Please enter a digit fuck ')\n",
    "        if ok.isdigit() == False:\n",
    "            print('print digit u fucking cunt')\n",
    "    return int(ok)"
   ]
  },
  {
   "cell_type": "code",
   "execution_count": null,
   "metadata": {},
   "outputs": [],
   "source": [
    "bruh()"
   ]
  },
  {
   "cell_type": "code",
   "execution_count": null,
   "metadata": {},
   "outputs": [],
   "source": [
    "acdada = [1,3,41]"
   ]
  },
  {
   "cell_type": "code",
   "execution_count": null,
   "metadata": {},
   "outputs": [],
   "source": [
    "result = [1,3,41]"
   ]
  },
  {
   "cell_type": "code",
   "execution_count": null,
   "metadata": {},
   "outputs": [],
   "source": []
  },
  {
   "cell_type": "code",
   "execution_count": null,
   "metadata": {},
   "outputs": [],
   "source": []
  },
  {
   "cell_type": "code",
   "execution_count": null,
   "metadata": {},
   "outputs": [],
   "source": []
  },
  {
   "cell_type": "code",
   "execution_count": 1,
   "metadata": {},
   "outputs": [],
   "source": [
    "game_list = [0,1,2]"
   ]
  },
  {
   "cell_type": "code",
   "execution_count": 2,
   "metadata": {},
   "outputs": [],
   "source": [
    "def display_game(game_list):\n",
    "    print('Current List: ')\n",
    "    print(game_list)"
   ]
  },
  {
   "cell_type": "code",
   "execution_count": 3,
   "metadata": {},
   "outputs": [
    {
     "name": "stdout",
     "output_type": "stream",
     "text": [
      "Current List: \n",
      "[0, 1, 2]\n"
     ]
    }
   ],
   "source": [
    "display_game(game_list)"
   ]
  },
  {
   "cell_type": "code",
   "execution_count": 5,
   "metadata": {},
   "outputs": [],
   "source": [
    "def position_choice():\n",
    "    choice = 'wrong'\n",
    "    while choice not in ['0','1','2']:\n",
    "        choice = input('Pick a position (0,1,2,)')\n",
    "        if choice not in ['0','1','2']:\n",
    "            print('Sorry, invalid choice')\n",
    "    return int(choice)"
   ]
  },
  {
   "cell_type": "code",
   "execution_count": 6,
   "metadata": {},
   "outputs": [
    {
     "name": "stdout",
     "output_type": "stream",
     "text": [
      "Pick a position (0,1,2,)2424\n",
      "Sorry, invalid choice\n",
      "Pick a position (0,1,2,)21241\n",
      "Sorry, invalid choice\n",
      "Pick a position (0,1,2,)1\n"
     ]
    },
    {
     "data": {
      "text/plain": [
       "1"
      ]
     },
     "execution_count": 6,
     "metadata": {},
     "output_type": "execute_result"
    }
   ],
   "source": [
    "position_choice()"
   ]
  },
  {
   "cell_type": "code",
   "execution_count": 12,
   "metadata": {},
   "outputs": [],
   "source": [
    "def replacement_choice(game_list,position):\n",
    "    user_placement = input('Type a string to place at positon:')\n",
    "    game_list[position] = user_placement\n",
    "    return game_list"
   ]
  },
  {
   "cell_type": "code",
   "execution_count": 13,
   "metadata": {},
   "outputs": [
    {
     "name": "stdout",
     "output_type": "stream",
     "text": [
      "Type a string to place at positon:2dssdsds\n"
     ]
    },
    {
     "data": {
      "text/plain": [
       "[0, '2dssdsds', 2]"
      ]
     },
     "execution_count": 13,
     "metadata": {},
     "output_type": "execute_result"
    }
   ],
   "source": [
    "replacement_choice(game_list,1)"
   ]
  },
  {
   "cell_type": "code",
   "execution_count": 14,
   "metadata": {},
   "outputs": [],
   "source": [
    "def gameon_choice():\n",
    "    choice = 'wrong'\n",
    "    while choice not in ['Y','N']:\n",
    "        choice = input('Keep playing, Y or N')\n",
    "        if choice not in ['Y','N']:\n",
    "            print('wtf, choose y or n')\n",
    "    if choice == 'Y':\n",
    "        return True\n",
    "    else:\n",
    "        return False"
   ]
  },
  {
   "cell_type": "code",
   "execution_count": 15,
   "metadata": {},
   "outputs": [
    {
     "name": "stdout",
     "output_type": "stream",
     "text": [
      "Keep playing, Y or NKW\n",
      "wtf, choose y or n\n",
      "Keep playing, Y or NN\n"
     ]
    },
    {
     "data": {
      "text/plain": [
       "False"
      ]
     },
     "execution_count": 15,
     "metadata": {},
     "output_type": "execute_result"
    }
   ],
   "source": [
    "gameon_choice()"
   ]
  },
  {
   "cell_type": "code",
   "execution_count": 17,
   "metadata": {},
   "outputs": [
    {
     "name": "stdout",
     "output_type": "stream",
     "text": [
      "Current List: \n",
      "[0, 1, 2]\n",
      "Pick a position (0,1,2,)2\n",
      "Type a string to place at positon:wewdss\n",
      "Current List: \n",
      "[0, 1, 'wewdss']\n",
      "Keep playing, Y or Nn\n",
      "wtf, choose y or n\n",
      "Keep playing, Y or Nnnn\n",
      "wtf, choose y or n\n",
      "Keep playing, Y or Nn\n",
      "wtf, choose y or n\n",
      "Keep playing, Y or NN\n"
     ]
    }
   ],
   "source": [
    "game_on = True\n",
    "game_list = [0,1,2]\n",
    "while game_on:\n",
    "    display_game(game_list)\n",
    "    position = position_choice()\n",
    "    game_list = replacement_choice(game_list, position)\n",
    "    display_game(game_list)\n",
    "    game_on = gameon_choice()"
   ]
  },
  {
   "cell_type": "code",
   "execution_count": null,
   "metadata": {},
   "outputs": [],
   "source": []
  }
 ],
 "metadata": {
  "kernelspec": {
   "display_name": "Python 3",
   "language": "python",
   "name": "python3"
  },
  "language_info": {
   "codemirror_mode": {
    "name": "ipython",
    "version": 3
   },
   "file_extension": ".py",
   "mimetype": "text/x-python",
   "name": "python",
   "nbconvert_exporter": "python",
   "pygments_lexer": "ipython3",
   "version": "3.8.5"
  }
 },
 "nbformat": 4,
 "nbformat_minor": 4
}
